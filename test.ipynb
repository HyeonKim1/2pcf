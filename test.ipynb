{
 "cells": [
  {
   "cell_type": "code",
   "execution_count": 2,
   "metadata": {},
   "outputs": [],
   "source": [
    "from pipe import *\n",
    "from matplotlib import pyplot as plt"
   ]
  },
  {
   "cell_type": "code",
   "execution_count": 3,
   "metadata": {},
   "outputs": [],
   "source": [
    "filename='./snapshot_002.hdf5'\n",
    "my_snapshot=read_Gadget4(filename)\n",
    "my_pos=my_snapshot.read_pos()"
   ]
  },
  {
   "cell_type": "code",
   "execution_count": 8,
   "metadata": {},
   "outputs": [
    {
     "data": {
      "text/plain": [
       "np.int64(2)"
      ]
     },
     "execution_count": 8,
     "metadata": {},
     "output_type": "execute_result"
    }
   ],
   "source": [
    "np.mod(100,7)"
   ]
  },
  {
   "cell_type": "code",
   "execution_count": 17,
   "metadata": {},
   "outputs": [],
   "source": [
    "NN=100\n",
    "size=7"
   ]
  },
  {
   "cell_type": "code",
   "execution_count": 20,
   "metadata": {},
   "outputs": [
    {
     "name": "stdout",
     "output_type": "stream",
     "text": [
      "0 0 14\n",
      "1 16 31\n",
      "2 35 50\n",
      "3 51 66\n",
      "4 67 82\n",
      "5 83 98\n",
      "6 99 114\n",
      "7 115 130\n"
     ]
    }
   ],
   "source": [
    "local_size =int(NN/ size)\n",
    "extra = np.mod(NN, size)\n",
    "for rank in range(8):\n",
    "    extra = np.mod(NN, size)\n",
    "    if (rank < extra):\n",
    "        local_size = local_size + 1\n",
    "        start_idx = rank * local_size\n",
    "    else:\n",
    "        start_idx = rank * local_size + extra + 1\n",
    "\n",
    "    end_idx = start_idx + local_size - 1\n",
    "    print(rank,start_idx,end_idx)"
   ]
  },
  {
   "cell_type": "code",
   "execution_count": 12,
   "metadata": {},
   "outputs": [
    {
     "data": {
      "text/plain": [
       "98"
      ]
     },
     "execution_count": 12,
     "metadata": {},
     "output_type": "execute_result"
    }
   ],
   "source": [
    "14*7"
   ]
  },
  {
   "cell_type": "code",
   "execution_count": 4,
   "metadata": {},
   "outputs": [],
   "source": [
    "nn=32**3\n",
    "my_pos=np.random.uniform(0,300,size=(nn,3))"
   ]
  },
  {
   "cell_type": "code",
   "execution_count": 5,
   "metadata": {},
   "outputs": [],
   "source": [
    "my_2pct=twopcf(my_pos,boxscale=[0,my_snapshot.boxsize])"
   ]
  },
  {
   "cell_type": "code",
   "execution_count": 6,
   "metadata": {},
   "outputs": [
    {
     "name": "stderr",
     "output_type": "stream",
     "text": [
      "  0%|          | 0/32768 [00:00<?, ?it/s]"
     ]
    },
    {
     "name": "stderr",
     "output_type": "stream",
     "text": [
      "100%|██████████| 32768/32768 [00:11<00:00, 2977.24it/s] \n"
     ]
    },
    {
     "name": "stdout",
     "output_type": "stream",
     "text": [
      "make DD done\n"
     ]
    },
    {
     "name": "stderr",
     "output_type": "stream",
     "text": [
      "  0%|          | 3149/655360 [00:42<2:25:06, 74.91it/s]\n"
     ]
    },
    {
     "ename": "KeyboardInterrupt",
     "evalue": "",
     "output_type": "error",
     "traceback": [
      "\u001b[0;31m---------------------------------------------------------------------------\u001b[0m",
      "\u001b[0;31mKeyboardInterrupt\u001b[0m                         Traceback (most recent call last)",
      "Cell \u001b[0;32mIn[6], line 1\u001b[0m\n\u001b[0;32m----> 1\u001b[0m psi,array\u001b[39m=\u001b[39mmy_2pct\u001b[39m.\u001b[39;49mNatural(bins\u001b[39m=\u001b[39;49m\u001b[39m30\u001b[39;49m)\n\u001b[1;32m      2\u001b[0m DP_psi,array\u001b[39m=\u001b[39mmy_2pct\u001b[39m.\u001b[39mDP(bins\u001b[39m=\u001b[39m\u001b[39m30\u001b[39m)\n\u001b[1;32m      3\u001b[0m Hamilton_psi,array\u001b[39m=\u001b[39mmy_2pct\u001b[39m.\u001b[39mHamilton(bins\u001b[39m=\u001b[39m\u001b[39m30\u001b[39m)\n",
      "File \u001b[0;32m~/my_code/2pcf/pipe.py:23\u001b[0m, in \u001b[0;36mtwopcf.Natural\u001b[0;34m(self, bins)\u001b[0m\n\u001b[1;32m     21\u001b[0m \u001b[39mself\u001b[39m\u001b[39m.\u001b[39mDD,array\u001b[39m=\u001b[39m\u001b[39mself\u001b[39m\u001b[39m.\u001b[39mcal_corr_same_data(\u001b[39mself\u001b[39m\u001b[39m.\u001b[39mdata,bins,\u001b[39mself\u001b[39m\u001b[39m.\u001b[39mhist_range)\n\u001b[1;32m     22\u001b[0m \u001b[39mprint\u001b[39m(\u001b[39m'\u001b[39m\u001b[39mmake DD done\u001b[39m\u001b[39m'\u001b[39m)\n\u001b[0;32m---> 23\u001b[0m \u001b[39mself\u001b[39m\u001b[39m.\u001b[39mRR,array\u001b[39m=\u001b[39m\u001b[39mself\u001b[39;49m\u001b[39m.\u001b[39;49mcal_corr_same_data(\u001b[39mself\u001b[39;49m\u001b[39m.\u001b[39;49mrandom_data,bins,\u001b[39mself\u001b[39;49m\u001b[39m.\u001b[39;49mhist_range)\n\u001b[1;32m     24\u001b[0m \u001b[39mprint\u001b[39m(\u001b[39m'\u001b[39m\u001b[39mmake RR done\u001b[39m\u001b[39m'\u001b[39m)\n\u001b[1;32m     26\u001b[0m \u001b[39mreturn\u001b[39;00m (\u001b[39mself\u001b[39m\u001b[39m.\u001b[39mDD\u001b[39m/\u001b[39m\u001b[39mself\u001b[39m\u001b[39m.\u001b[39mRR)\u001b[39m-\u001b[39m\u001b[39m1\u001b[39m ,array\n",
      "File \u001b[0;32m~/my_code/2pcf/pipe.py:62\u001b[0m, in \u001b[0;36mtwopcf.cal_corr_same_data\u001b[0;34m(self, data, bins, hist_range)\u001b[0m\n\u001b[1;32m     60\u001b[0m hist\u001b[39m=\u001b[39mnp\u001b[39m.\u001b[39mzeros(bins)\n\u001b[1;32m     61\u001b[0m \u001b[39mfor\u001b[39;00m ii \u001b[39min\u001b[39;00m tqdm(\u001b[39mrange\u001b[39m(\u001b[39mlen\u001b[39m(data))):\n\u001b[0;32m---> 62\u001b[0m     distance\u001b[39m=\u001b[39mnp\u001b[39m.\u001b[39msqrt(np\u001b[39m.\u001b[39;49msum((data[ii:]\u001b[39m-\u001b[39;49mdata[ii])\u001b[39m*\u001b[39;49m\u001b[39m*\u001b[39;49m\u001b[39m2\u001b[39;49m,axis\u001b[39m=\u001b[39;49m\u001b[39m1\u001b[39;49m))\n\u001b[1;32m     63\u001b[0m     hist1,array\u001b[39m=\u001b[39mnp\u001b[39m.\u001b[39mhistogram(distance,bins\u001b[39m=\u001b[39mbins,\u001b[39mrange\u001b[39m\u001b[39m=\u001b[39mhist_range)\n\u001b[1;32m     64\u001b[0m     hist \u001b[39m=\u001b[39m hist\u001b[39m+\u001b[39mhist1\n",
      "File \u001b[0;32m~/miniconda3/envs/camb/lib/python3.10/site-packages/numpy/_core/fromnumeric.py:2466\u001b[0m, in \u001b[0;36msum\u001b[0;34m(a, axis, dtype, out, keepdims, initial, where)\u001b[0m\n\u001b[1;32m   2463\u001b[0m         \u001b[39mreturn\u001b[39;00m out\n\u001b[1;32m   2464\u001b[0m     \u001b[39mreturn\u001b[39;00m res\n\u001b[0;32m-> 2466\u001b[0m \u001b[39mreturn\u001b[39;00m _wrapreduction(\n\u001b[1;32m   2467\u001b[0m     a, np\u001b[39m.\u001b[39;49madd, \u001b[39m'\u001b[39;49m\u001b[39msum\u001b[39;49m\u001b[39m'\u001b[39;49m, axis, dtype, out,\n\u001b[1;32m   2468\u001b[0m     keepdims\u001b[39m=\u001b[39;49mkeepdims, initial\u001b[39m=\u001b[39;49minitial, where\u001b[39m=\u001b[39;49mwhere\n\u001b[1;32m   2469\u001b[0m )\n",
      "File \u001b[0;32m~/miniconda3/envs/camb/lib/python3.10/site-packages/numpy/_core/fromnumeric.py:86\u001b[0m, in \u001b[0;36m_wrapreduction\u001b[0;34m(obj, ufunc, method, axis, dtype, out, **kwargs)\u001b[0m\n\u001b[1;32m     83\u001b[0m         \u001b[39melse\u001b[39;00m:\n\u001b[1;32m     84\u001b[0m             \u001b[39mreturn\u001b[39;00m reduction(axis\u001b[39m=\u001b[39maxis, out\u001b[39m=\u001b[39mout, \u001b[39m*\u001b[39m\u001b[39m*\u001b[39mpasskwargs)\n\u001b[0;32m---> 86\u001b[0m \u001b[39mreturn\u001b[39;00m ufunc\u001b[39m.\u001b[39;49mreduce(obj, axis, dtype, out, \u001b[39m*\u001b[39;49m\u001b[39m*\u001b[39;49mpasskwargs)\n",
      "\u001b[0;31mKeyboardInterrupt\u001b[0m: "
     ]
    }
   ],
   "source": [
    "psi,array=my_2pct.Natural(bins=30)\n",
    "DP_psi,array=my_2pct.DP(bins=30)\n",
    "Hamilton_psi,array=my_2pct.Hamilton(bins=30)\n",
    "LS_psi,array=my_2pct.LS(bins=30)"
   ]
  },
  {
   "cell_type": "code",
   "execution_count": 11,
   "metadata": {},
   "outputs": [
    {
     "data": {
      "text/plain": [
       "[<matplotlib.lines.Line2D at 0x120b5bc10>]"
      ]
     },
     "execution_count": 11,
     "metadata": {},
     "output_type": "execute_result"
    },
    {
     "data": {
      "image/png": "[encoded data removed]",
      "text/plain": [
       "<Figure size 640x480 with 1 Axes>"
      ]
     },
     "metadata": {},
     "output_type": "display_data"
    }
   ],
   "source": [
    "plt.plot(array,psi)\n",
    "plt.plot(array,DP_psi)\n",
    "plt.plot(array,Hamilton_psi)\n",
    "plt.plot(array,LS_psi)"
   ]
  }
 ],
 "metadata": {
  "kernelspec": {
   "display_name": "camb",
   "language": "python",
   "name": "python3"
  },
  "language_info": {
   "codemirror_mode": {
    "name": "ipython",
    "version": 3
   },
   "file_extension": ".py",
   "mimetype": "text/x-python",
   "name": "python",
   "nbconvert_exporter": "python",
   "pygments_lexer": "ipython3",
   "version": "3.10.16"
  },
  "orig_nbformat": 4
 },
 "nbformat": 4,
 "nbformat_minor": 2
}
